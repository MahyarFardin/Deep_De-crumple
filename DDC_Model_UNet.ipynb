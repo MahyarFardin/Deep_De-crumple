{
 "cells": [
  {
   "cell_type": "code",
   "execution_count": 1,
   "id": "905e95a7-d577-41f9-8322-f1665429ef3b",
   "metadata": {},
   "outputs": [],
   "source": [
    "import numpy as np\n",
    "from matplotlib import pyplot as plt\n",
    "import os\n",
    "import tensorflow as tf\n",
    "from tqdm import tqdm\n",
    "from scipy.ndimage import rotate, zoom\n",
    "import math"
   ]
  },
  {
   "cell_type": "code",
   "execution_count": 2,
   "id": "33862064-3ff8-46a2-a51b-b376fc301199",
   "metadata": {},
   "outputs": [
    {
     "data": {
      "text/plain": [
       "[PhysicalDevice(name='/physical_device:CPU:0', device_type='CPU'),\n",
       " PhysicalDevice(name='/physical_device:GPU:0', device_type='GPU')]"
      ]
     },
     "execution_count": 2,
     "metadata": {},
     "output_type": "execute_result"
    }
   ],
   "source": [
    "tf.config.list_physical_devices()"
   ]
  },
  {
   "cell_type": "code",
   "execution_count": 3,
   "id": "a1d41331-af4f-4760-a486-7650d5c5639d",
   "metadata": {},
   "outputs": [],
   "source": [
    "root_data_dir = \"maps/\"\n",
    "runs_dir = \"Runs/\"\n",
    "model_name = \"tmp\"\n",
    "resume_model_name = \"\"\n",
    "resume_epoch = 0\n",
    "model_dir = runs_dir + model_name + \"/\"\n",
    "if os.listdir(runs_dir).count(model_name) == 0:\n",
    "    os.mkdir(runs_dir + model_name)\n",
    "maps = os.listdir(root_data_dir)\n",
    "dmaps = [m for m in maps if m[0] == \"d\"]\n",
    "gmaps = [m for m in maps if m[0] == \"g\"]\n",
    "resume_from_last = False\n",
    "resume = False\n",
    "train_val_split_rate = 0.9\n",
    "n_crumples = len(dmaps)\n",
    "idxs = np.arange(n_crumples)\n",
    "np.random.shuffle(idxs)\n",
    "e_crumple_idxs = idxs[:int(n_crumples * train_val_split_rate)]\n",
    "f_crumple_idxs = idxs[int(n_crumples * train_val_split_rate):]\n",
    "Batch_size = 20\n",
    "Epochs = 150\n",
    "Val_Batch_size = 40\n",
    "total_chunks = 153\n",
    "images_per_chunk = 1000\n",
    "steps_per_epoch = int(images_per_chunk * train_val_split_rate) * total_chunks // Batch_size\n",
    "steps_per_val_epoch = int(images_per_chunk * (1 - train_val_split_rate)) * total_chunks // Val_Batch_size\n",
    "saved_models_list = os.listdir(runs_dir + model_name)\n",
    "key_func = lambda x:int(x.split(\"_\")[-1][:-3]) if x[-3:] == \".h5\" else 0\n",
    "saved_models_list.sort(key=key_func)\n",
    "if resume_from_last:\n",
    "    last_epoch = int(saved_models_list[-1].split(\"_\")[-1][:-3])\n",
    "else:\n",
    "    last_epoch = -1"
   ]
  },
  {
   "cell_type": "code",
   "execution_count": 4,
   "id": "9c2028c1-71f0-429d-9471-c15203428967",
   "metadata": {},
   "outputs": [
    {
     "name": "stdout",
     "output_type": "stream",
     "text": [
      "6885 378\n"
     ]
    }
   ],
   "source": [
    "print(steps_per_epoch, steps_per_val_epoch)"
   ]
  },
  {
   "cell_type": "code",
   "execution_count": 5,
   "id": "96a8d48b-a759-4418-9edb-6e494d73a257",
   "metadata": {
    "tags": []
   },
   "outputs": [],
   "source": [
    "def quick_deformation(crumple_id, img):\n",
    "    global dmaps, gmaps, root_data_dir\n",
    "    g_map = np.load(root_data_dir + gmaps[crumple_id])\n",
    "    d_map = np.load(root_data_dir + dmaps[crumple_id])\n",
    "    ret = np.zeros_like(img)\n",
    "    ret[...] = img[:, d_map[..., 0], d_map[..., 1], :] * np.expand_dims(g_map, 2)\n",
    "    return ret"
   ]
  },
  {
   "cell_type": "code",
   "execution_count": 36,
   "id": "126bee29-c40b-4da3-86e4-8af859c3e513",
   "metadata": {},
   "outputs": [],
   "source": [
    "def mean_elastic_distance(y_true, y_pred):\n",
    "    return tf.keras.losses.MSE(y_true, y_pred) + 80 * tf.keras.losses.MAE(y_true, y_pred)"
   ]
  },
  {
   "cell_type": "code",
   "execution_count": 7,
   "id": "610314cc-db59-4ff5-a622-d8c372c8e87e",
   "metadata": {},
   "outputs": [],
   "source": [
    "def zoom_by_shape(img, z):\n",
    "    res = np.zeros((1000,180,180))\n",
    "    for i in range(1000):    \n",
    "        x1 = int(np.random.uniform(0,z))\n",
    "        x2 = z- x1\n",
    "        y1 = int(np.random.uniform(0,z))\n",
    "        y2 = z- y1\n",
    "        cropped = img[i,x1:-x2,y1:-y2]\n",
    "        res[i] = zoom(cropped, zoom = 180/(220-z))\n",
    "        if res[i].shape != (180, 180):\n",
    "            print(info)\n",
    "            print(i, cropped.shape, res[i].shape, x1, x2, y1, y2, z)\n",
    "    \n",
    "    return res\n",
    "    "
   ]
  },
  {
   "cell_type": "code",
   "execution_count": 8,
   "id": "c47c6523-3409-4bff-acc3-9991733fe0e8",
   "metadata": {},
   "outputs": [],
   "source": [
    "def rotate_by_shape(img):\n",
    "    res = np.zeros((img.shape[0], 220, 220, 1))\n",
    "    for i in range(img.shape[0]):\n",
    "        res[i] = rotate(img[i], angle=np.random.uniform(-5, 5), reshape=False)\n",
    "    return res"
   ]
  },
  {
   "cell_type": "code",
   "execution_count": 4,
   "id": "bdb46bd2-d935-4025-b6ef-644588a6792c",
   "metadata": {},
   "outputs": [],
   "source": [
    "def data_gen(Batch_size):\n",
    "    while 1:    \n",
    "        for i in range(140):\n",
    "            first = int(np.random.uniform(140))\n",
    "            first = np.load(f\"Images/{first}.npy\", mmap_mode=\"r\")\n",
    "            second = np.load(f\"Images/{i}.npy\", mmap_mode=\"r\")\n",
    "            # plt.imshow(second[0])\n",
    "            second_fliped = np.flip(second, axis = 2)\n",
    "            # plt.imshow(first_fliped[0])\n",
    "\n",
    "            combined = first * .9+ second_fliped * .1\n",
    "            for j in range(0,1000-Batch_size, Batch_size):\n",
    "                yield combined[j:j+Batch_size],first[j:j+Batch_size]\n",
    "                            "
   ]
  },
  {
   "cell_type": "code",
   "execution_count": 5,
   "id": "271dfa07-670d-4677-99b0-babc9a882491",
   "metadata": {},
   "outputs": [],
   "source": [
    "def val_data_gen(Batch_size):\n",
    "    while 1:    \n",
    "        for i in range(140,153):\n",
    "            first = int(np.random.uniform(140,153))\n",
    "            first = np.load(f\"Images/{first}.npy\", mmap_mode=\"r\")\n",
    "            second = np.load(f\"Images/{i}.npy\", mmap_mode=\"r\")\n",
    "            # plt.imshow(second[0])\n",
    "            second_fliped = np.flip(second, axis = 2)\n",
    "            # plt.imshow(first_fliped[0])\n",
    "\n",
    "            combined = first * .9+ second_fliped * .1\n",
    "            for j in range(0,1000-Batch_size, Batch_size):\n",
    "                yield combined[j:j+Batch_size],first[j:j+Batch_size]\n",
    "                            "
   ]
  },
  {
   "cell_type": "code",
   "execution_count": 21,
   "id": "c9b1b0a7-b1e1-489a-a53f-7d1109c5ace4",
   "metadata": {},
   "outputs": [],
   "source": []
  },
  {
   "cell_type": "code",
   "execution_count": 9,
   "id": "323108b7-b4a1-46e0-9b4f-560dee182dde",
   "metadata": {},
   "outputs": [],
   "source": [
    "# def data_gen(training=True, batch_size=1):\n",
    "#     global e_crumple_idxs, f_crumple_idxs, total_chunks, train_val_split_rate, images_per_chunk\n",
    "#     if training:\n",
    "#         crumple_idxs = e_crumple_idxs\n",
    "#         start_batch = 0\n",
    "#         end_batch = int(images_per_chunk * train_val_split_rate)\n",
    "#     else:\n",
    "#         crumple_idxs = f_crumple_idxs\n",
    "#         start_batch = int(images_per_chunk * train_val_split_rate)\n",
    "#         end_batch = images_per_chunk\n",
    "#     while 1:\n",
    "#         crumple_i = 0\n",
    "#         for chunk_num in range(total_chunks):\n",
    "#             for j in range(start_batch, end_batch, batch_size):\n",
    "#                 imgs = np.load(\"Images/\" + str(chunk_num) + \".npy\", mmap_mode=\"r\")\n",
    "#                 IMAGE_SHAPE = 180\n",
    "#                 imgs = np.expand_dims(imgs[j:j + batch_size], -1)\n",
    "#                 im = imgs[:,20:-20,20:-20]\n",
    "#                 im_norm = np.subtract(im, 127.5)\n",
    "#                 cr_id = crumple_idxs[crumple_i]\n",
    "#                 cr_im = quick_deformation(cr_id, im)\n",
    "#                 cr_im_norm = np.subtract(cr_im,  127.5)\n",
    "#                 yield cr_im_norm, im_norm \n",
    "#                 crumple_i = (crumple_i + 1) % len(crumple_idxs)"
   ]
  },
  {
   "cell_type": "code",
   "execution_count": 14,
   "id": "9cef8459-a058-49ee-9ce7-c6b3eeb73f09",
   "metadata": {},
   "outputs": [],
   "source": [
    "if not resume_from_last and not resume:\n",
    "    FACTOR = 2\n",
    "    x_inp = tf.keras.layers.Input(shape=(180, 180, 1))\n",
    "    padding_layer = tf.keras.layers.ZeroPadding2D(padding=(2, 2))(x_inp) # 184\n",
    "    c1 = tf.keras.layers.Conv2D(int(24 * FACTOR), (3, 3), padding=\"same\", activation=tf.nn.leaky_relu)(padding_layer) # 184\n",
    "    c_dial_1 = tf.keras.layers.Conv2D(int(8 * FACTOR), (3, 3), dilation_rate=1, padding=\"same\", activation=tf.nn.leaky_relu)(padding_layer)\n",
    "    c1_out = tf.keras.layers.Concatenate(axis = 3)([c1, c_dial_1])\n",
    "    c2 = tf.keras.layers.Conv2D(int(12 * FACTOR), (3, 3), padding=\"same\", activation=tf.nn.leaky_relu)(c1_out) # 184\n",
    "    c_dial_2 = tf.keras.layers.Conv2D(int(4 * FACTOR), (3, 3), dilation_rate=1, padding=\"same\", activation=tf.nn.leaky_relu)(c1_out)\n",
    "    c2_out = tf.keras.layers.Concatenate(axis = 3)([c2, c_dial_2])\n",
    "    c3 = tf.keras.layers.Conv2D(int(12 * FACTOR), (3, 3), padding=\"same\", activation=tf.nn.leaky_relu)(c2_out) # 184\n",
    "    c_dial_3 = tf.keras.layers.Conv2D(int(4 * FACTOR), (3, 3), dilation_rate=1, padding=\"same\", activation=tf.nn.leaky_relu)(c2_out)\n",
    "    c3_out = tf.keras.layers.Concatenate(axis = 3)([c3, c_dial_3])\n",
    "    c4 = tf.keras.layers.Conv2D(int(12 * FACTOR), (3, 3), padding=\"same\", activation=tf.nn.leaky_relu)(c3_out) # 184\n",
    "    c_dial_4 = tf.keras.layers.Conv2D(int(4 * FACTOR), (3, 3), dilation_rate=1, padding=\"same\", activation=tf.nn.leaky_relu)(c3_out)\n",
    "    c4_out = tf.keras.layers.Concatenate(axis = 3)([c4, c_dial_4])\n",
    "    c5 = tf.keras.layers.Conv2D(int(12 * FACTOR), (3, 3), padding=\"same\", activation=tf.nn.leaky_relu)(c4_out) # 184\n",
    "    c_dial_5 = tf.keras.layers.Conv2D(int(4 * FACTOR), (3, 3), dilation_rate=1, padding=\"same\", activation=tf.nn.leaky_relu)(c4_out)\n",
    "    c5_out = tf.keras.layers.Concatenate(axis = 3)([c5, c_dial_5])\n",
    "    p1 = tf.keras.layers.MaxPooling2D()(c5_out)\n",
    "    c5 = tf.keras.layers.Conv2D(int(16 * FACTOR), (3, 3), padding=\"same\", activation=tf.nn.leaky_relu)(p1) # 92\n",
    "    c6 = tf.keras.layers.Conv2D(int(16 * FACTOR), (3, 3), padding=\"same\", activation=tf.nn.leaky_relu)(c5) # 92\n",
    "    p2 = tf.keras.layers.MaxPooling2D()(c6)\n",
    "    c7 = tf.keras.layers.Conv2D(int(32 * FACTOR), (3, 3), padding=\"same\", activation=tf.nn.leaky_relu)(p2) # 46\n",
    "    c8 = tf.keras.layers.Conv2D(int(32 * FACTOR), (3, 3), padding=\"same\", activation=tf.nn.leaky_relu)(c7) # 46\n",
    "    p3 = tf.keras.layers.MaxPooling2D()(c8)\n",
    "    c9 = tf.keras.layers.Conv2D(int(64 * FACTOR), (3, 3), padding=\"same\", activation=tf.nn.leaky_relu)(p3) # 23\n",
    "    c10 = tf.keras.layers.Conv2D(int(64 * FACTOR), (3, 3), padding=\"same\", activation=tf.nn.leaky_relu)(c9) # 23\n",
    "    d11 = tf.keras.layers.Conv2D(int(64 * FACTOR), (3, 3), padding=\"same\", activation=tf.nn.leaky_relu)(c10) # 23\n",
    "    d10 = tf.keras.layers.Conv2D(int(64 * FACTOR), (3, 3), padding=\"same\", activation=tf.nn.leaky_relu)(d11) # 23\n",
    "    u4 = tf.keras.layers.UpSampling2D()(d10)\n",
    "    cc4 = tf.keras.layers.Concatenate()([u4, c8])\n",
    "    d9 = tf.keras.layers.Conv2D(int(32 * FACTOR), (3, 3), padding=\"same\", activation=tf.nn.leaky_relu)(c8) # 46\n",
    "    d8 = tf.keras.layers.Conv2D(int(32 * FACTOR), (3, 3), padding=\"same\", activation=tf.nn.leaky_relu)(d9) # 46\n",
    "    u3 = tf.keras.layers.UpSampling2D()(d8)\n",
    "    cc3 = tf.keras.layers.Concatenate()([u3, c6])\n",
    "    d7 = tf.keras.layers.Conv2D(int(32 * FACTOR), (3, 3), padding=\"same\", activation=tf.nn.leaky_relu)(cc3) # 92\n",
    "    d6 = tf.keras.layers.Conv2D(int(16 * FACTOR), (3, 3), padding=\"same\", activation=tf.nn.leaky_relu)(d7) # 92\n",
    "    u2 = tf.keras.layers.UpSampling2D()(d6)\n",
    "    cc2 = tf.keras.layers.Concatenate()([u2, c5_out])\n",
    "    d5 = tf.keras.layers.Conv2D(int(24 * FACTOR), (3, 3), padding=\"same\", activation=tf.nn.leaky_relu)(cc2) # 184\n",
    "    d_dial_5 = tf.keras.layers.Conv2D(int(8 * FACTOR), (3, 3), dilation_rate=1, padding=\"same\", activation=tf.nn.leaky_relu)(cc2)\n",
    "    d5_out = tf.keras.layers.Concatenate(axis = 3)([d5, d_dial_5])\n",
    "    d4 = tf.keras.layers.Conv2D(int(12 * FACTOR), (3, 3), padding=\"same\", activation=tf.nn.leaky_relu)(d5_out) # 184\n",
    "    d_dial_4 = tf.keras.layers.Conv2D(int(4 * FACTOR), (3, 3), dilation_rate=1, padding=\"same\", activation=tf.nn.leaky_relu)(d5_out)\n",
    "    d4_out = tf.keras.layers.Concatenate(axis = 3)([d4, d_dial_4])\n",
    "    d3 = tf.keras.layers.Conv2D(int(12 * FACTOR), (3, 3), padding=\"same\", activation=tf.nn.leaky_relu)(d4_out) # 184\n",
    "    d_dial_3 = tf.keras.layers.Conv2D(int(4 * FACTOR), (3, 3), dilation_rate=1, padding=\"same\", activation=tf.nn.leaky_relu)(d4_out)\n",
    "    d3_out = tf.keras.layers.Concatenate(axis = 3)([d3, d_dial_3])\n",
    "    d2 = tf.keras.layers.Conv2D(int(8 * FACTOR), (3, 3), padding=\"same\", activation=tf.nn.leaky_relu)(d3_out) # 184\n",
    "    d_dial_2 = tf.keras.layers.Conv2D(int(4 * FACTOR), (3, 3), dilation_rate=1, padding=\"same\", activation=tf.nn.leaky_relu)(d3_out)\n",
    "    d2_out = tf.keras.layers.Concatenate(axis = 3)([d2, d_dial_2])\n",
    "    d1 = tf.keras.layers.Conv2D(1, (3, 3), padding=\"same\", activation=None)(d2) # 184\n",
    "    crop_layer = tf.keras.layers.Cropping2D(cropping=((2, 2), (2, 2)))(sig) # 180\n",
    "    model = tf.keras.models.Model(inputs=[x_inp], outputs=[crop_layer])\n",
    "    model.compile(optimizer=tf.keras.optimizers.Adam(0.0003), loss=mean_elastic_distance)\n",
    "elif resume and not resume_from_last:\n",
    "    target = glob.glob(runs_dir + \"/\" + resume_model_name + \"/*\" + resume_epoch + \"*\")[0]\n",
    "    model = tf.keras.models.load_model(target, custom_objects={\"mean_elastic_distance\":mean_elastic_distance})\n",
    "else:\n",
    "    model = tf.keras.models.load_model(runs_dir + \"/\" + model_name + \"/\" + os.listdir(runs_dir + model_name)[-2], custom_objects={\"mean_elastic_distance\":mean_elastic_distance})"
   ]
  },
  {
   "cell_type": "code",
   "execution_count": 15,
   "id": "f1550e06-f0b4-4061-9a75-276639906ad5",
   "metadata": {},
   "outputs": [],
   "source": [
    "# for i in model.layers[-17:]:\n",
    "#     i.trainable = Falseresume_from_last"
   ]
  },
  {
   "cell_type": "code",
   "execution_count": 16,
   "id": "8d42375c-6ecb-4656-ad01-c016e9ffe4d9",
   "metadata": {},
   "outputs": [
    {
     "name": "stdout",
     "output_type": "stream",
     "text": [
      "Model: \"model_1\"\n",
      "_____________________________________________________________________________________________________________\n",
      " Layer (type)                   Output Shape         Param #     Connected to                     Trainable  \n",
      "=============================================================================================================\n",
      " input_2 (InputLayer)           [(None, 180, 180, 1  0           []                               Y          \n",
      "                                )]                                                                           \n",
      "                                                                                                             \n",
      " zero_padding2d_1 (ZeroPadding2  (None, 184, 184, 1)  0          ['input_2[0][0]']                Y          \n",
      " D)                                                                                                          \n",
      "                                                                                                             \n",
      " conv2d_32 (Conv2D)             (None, 184, 184, 48  480         ['zero_padding2d_1[0][0]']       Y          \n",
      "                                )                                                                            \n",
      "                                                                                                             \n",
      " conv2d_33 (Conv2D)             (None, 184, 184, 16  160         ['zero_padding2d_1[0][0]']       Y          \n",
      "                                )                                                                            \n",
      "                                                                                                             \n",
      " concatenate_12 (Concatenate)   (None, 184, 184, 64  0           ['conv2d_32[0][0]',              Y          \n",
      "                                )                                 'conv2d_33[0][0]']                         \n",
      "                                                                                                             \n",
      " conv2d_34 (Conv2D)             (None, 184, 184, 24  13848       ['concatenate_12[0][0]']         Y          \n",
      "                                )                                                                            \n",
      "                                                                                                             \n",
      " conv2d_35 (Conv2D)             (None, 184, 184, 8)  4616        ['concatenate_12[0][0]']         Y          \n",
      "                                                                                                             \n",
      " concatenate_13 (Concatenate)   (None, 184, 184, 32  0           ['conv2d_34[0][0]',              Y          \n",
      "                                )                                 'conv2d_35[0][0]']                         \n",
      "                                                                                                             \n",
      " conv2d_36 (Conv2D)             (None, 184, 184, 24  6936        ['concatenate_13[0][0]']         Y          \n",
      "                                )                                                                            \n",
      "                                                                                                             \n",
      " conv2d_37 (Conv2D)             (None, 184, 184, 8)  2312        ['concatenate_13[0][0]']         Y          \n",
      "                                                                                                             \n",
      " concatenate_14 (Concatenate)   (None, 184, 184, 32  0           ['conv2d_36[0][0]',              Y          \n",
      "                                )                                 'conv2d_37[0][0]']                         \n",
      "                                                                                                             \n",
      " conv2d_38 (Conv2D)             (None, 184, 184, 24  6936        ['concatenate_14[0][0]']         Y          \n",
      "                                )                                                                            \n",
      "                                                                                                             \n",
      " conv2d_39 (Conv2D)             (None, 184, 184, 8)  2312        ['concatenate_14[0][0]']         Y          \n",
      "                                                                                                             \n",
      " concatenate_15 (Concatenate)   (None, 184, 184, 32  0           ['conv2d_38[0][0]',              Y          \n",
      "                                )                                 'conv2d_39[0][0]']                         \n",
      "                                                                                                             \n",
      " conv2d_40 (Conv2D)             (None, 184, 184, 24  6936        ['concatenate_15[0][0]']         Y          \n",
      "                                )                                                                            \n",
      "                                                                                                             \n",
      " conv2d_41 (Conv2D)             (None, 184, 184, 8)  2312        ['concatenate_15[0][0]']         Y          \n",
      "                                                                                                             \n",
      " concatenate_16 (Concatenate)   (None, 184, 184, 32  0           ['conv2d_40[0][0]',              Y          \n",
      "                                )                                 'conv2d_41[0][0]']                         \n",
      "                                                                                                             \n",
      " max_pooling2d_3 (MaxPooling2D)  (None, 92, 92, 32)  0           ['concatenate_16[0][0]']         Y          \n",
      "                                                                                                             \n",
      " conv2d_42 (Conv2D)             (None, 92, 92, 32)   9248        ['max_pooling2d_3[0][0]']        Y          \n",
      "                                                                                                             \n",
      " conv2d_43 (Conv2D)             (None, 92, 92, 32)   9248        ['conv2d_42[0][0]']              Y          \n",
      "                                                                                                             \n",
      " max_pooling2d_4 (MaxPooling2D)  (None, 46, 46, 32)  0           ['conv2d_43[0][0]']              Y          \n",
      "                                                                                                             \n",
      " conv2d_44 (Conv2D)             (None, 46, 46, 64)   18496       ['max_pooling2d_4[0][0]']        Y          \n",
      "                                                                                                             \n",
      " conv2d_45 (Conv2D)             (None, 46, 46, 64)   36928       ['conv2d_44[0][0]']              Y          \n",
      "                                                                                                             \n",
      " conv2d_50 (Conv2D)             (None, 46, 46, 64)   36928       ['conv2d_45[0][0]']              Y          \n",
      "                                                                                                             \n",
      " conv2d_51 (Conv2D)             (None, 46, 46, 64)   36928       ['conv2d_50[0][0]']              Y          \n",
      "                                                                                                             \n",
      " up_sampling2d_4 (UpSampling2D)  (None, 92, 92, 64)  0           ['conv2d_51[0][0]']              Y          \n",
      "                                                                                                             \n",
      " concatenate_18 (Concatenate)   (None, 92, 92, 96)   0           ['up_sampling2d_4[0][0]',        Y          \n",
      "                                                                  'conv2d_43[0][0]']                         \n",
      "                                                                                                             \n",
      " conv2d_52 (Conv2D)             (None, 92, 92, 64)   55360       ['concatenate_18[0][0]']         Y          \n",
      "                                                                                                             \n",
      " conv2d_53 (Conv2D)             (None, 92, 92, 32)   18464       ['conv2d_52[0][0]']              Y          \n",
      "                                                                                                             \n",
      " up_sampling2d_5 (UpSampling2D)  (None, 184, 184, 32  0          ['conv2d_53[0][0]']              Y          \n",
      "                                )                                                                            \n",
      "                                                                                                             \n",
      " concatenate_19 (Concatenate)   (None, 184, 184, 64  0           ['up_sampling2d_5[0][0]',        Y          \n",
      "                                )                                 'concatenate_16[0][0]']                    \n",
      "                                                                                                             \n",
      " conv2d_54 (Conv2D)             (None, 184, 184, 48  27696       ['concatenate_19[0][0]']         Y          \n",
      "                                )                                                                            \n",
      "                                                                                                             \n",
      " conv2d_55 (Conv2D)             (None, 184, 184, 16  9232        ['concatenate_19[0][0]']         Y          \n",
      "                                )                                                                            \n",
      "                                                                                                             \n",
      " concatenate_20 (Concatenate)   (None, 184, 184, 64  0           ['conv2d_54[0][0]',              Y          \n",
      "                                )                                 'conv2d_55[0][0]']                         \n",
      "                                                                                                             \n",
      " conv2d_56 (Conv2D)             (None, 184, 184, 24  13848       ['concatenate_20[0][0]']         Y          \n",
      "                                )                                                                            \n",
      "                                                                                                             \n",
      " conv2d_57 (Conv2D)             (None, 184, 184, 8)  4616        ['concatenate_20[0][0]']         Y          \n",
      "                                                                                                             \n",
      " concatenate_21 (Concatenate)   (None, 184, 184, 32  0           ['conv2d_56[0][0]',              Y          \n",
      "                                )                                 'conv2d_57[0][0]']                         \n",
      "                                                                                                             \n",
      " conv2d_58 (Conv2D)             (None, 184, 184, 24  6936        ['concatenate_21[0][0]']         Y          \n",
      "                                )                                                                            \n",
      "                                                                                                             \n",
      " conv2d_59 (Conv2D)             (None, 184, 184, 8)  2312        ['concatenate_21[0][0]']         Y          \n",
      "                                                                                                             \n",
      " concatenate_22 (Concatenate)   (None, 184, 184, 32  0           ['conv2d_58[0][0]',              Y          \n",
      "                                )                                 'conv2d_59[0][0]']                         \n",
      "                                                                                                             \n",
      " conv2d_60 (Conv2D)             (None, 184, 184, 16  4624        ['concatenate_22[0][0]']         Y          \n",
      "                                )                                                                            \n",
      "                                                                                                             \n",
      " conv2d_62 (Conv2D)             (None, 184, 184, 1)  145         ['conv2d_60[0][0]']              Y          \n",
      "                                                                                                             \n",
      " conv2d_63 (Conv2D)             (None, 184, 184, 1)  2           ['conv2d_62[0][0]']              Y          \n",
      "                                                                                                             \n",
      " cropping2d_1 (Cropping2D)      (None, 180, 180, 1)  0           ['conv2d_63[0][0]']              Y          \n",
      "                                                                                                             \n",
      "=============================================================================================================\n",
      "Total params: 337,859\n",
      "Trainable params: 337,859\n",
      "Non-trainable params: 0\n",
      "_____________________________________________________________________________________________________________\n"
     ]
    }
   ],
   "source": [
    "model.summary(show_trainable=True)"
   ]
  },
  {
   "cell_type": "code",
   "execution_count": null,
   "id": "ccca6054-3d46-4d50-82a8-1e5a7d0badb2",
   "metadata": {},
   "outputs": [],
   "source": []
  },
  {
   "cell_type": "code",
   "execution_count": 17,
   "id": "1b7fa489-5583-45c8-b139-994e528a9534",
   "metadata": {
    "tags": []
   },
   "outputs": [
    {
     "name": "stdout",
     "output_type": "stream",
     "text": [
      "Epoch 1 / 150 :\n",
      " 331/6885 [>.............................] - ETA: 38:48 - loss: 24444.9082"
     ]
    },
    {
     "ename": "KeyboardInterrupt",
     "evalue": "",
     "output_type": "error",
     "traceback": [
      "\u001b[1;31m---------------------------------------------------------------------------\u001b[0m",
      "\u001b[1;31mKeyboardInterrupt\u001b[0m                         Traceback (most recent call last)",
      "Cell \u001b[1;32mIn[17], line 5\u001b[0m\n\u001b[0;32m      3\u001b[0m \u001b[38;5;28;01mfor\u001b[39;00m e \u001b[38;5;129;01min\u001b[39;00m \u001b[38;5;28mrange\u001b[39m(last_epoch \u001b[38;5;241m+\u001b[39m \u001b[38;5;241m1\u001b[39m, Epochs):\n\u001b[0;32m      4\u001b[0m     \u001b[38;5;28mprint\u001b[39m(\u001b[38;5;124m\"\u001b[39m\u001b[38;5;124mEpoch\u001b[39m\u001b[38;5;124m\"\u001b[39m, e \u001b[38;5;241m+\u001b[39m \u001b[38;5;241m1\u001b[39m, \u001b[38;5;124m\"\u001b[39m\u001b[38;5;124m/\u001b[39m\u001b[38;5;124m\"\u001b[39m, Epochs, \u001b[38;5;124m\"\u001b[39m\u001b[38;5;124m:\u001b[39m\u001b[38;5;124m\"\u001b[39m)\n\u001b[1;32m----> 5\u001b[0m     \u001b[43mmodel\u001b[49m\u001b[38;5;241;43m.\u001b[39;49m\u001b[43mfit\u001b[49m\u001b[43m(\u001b[49m\u001b[43mx\u001b[49m\u001b[38;5;241;43m=\u001b[39;49m\u001b[43mtr_gen\u001b[49m\u001b[43m,\u001b[49m\u001b[43m \u001b[49m\n\u001b[0;32m      6\u001b[0m \u001b[43m              \u001b[49m\u001b[43mvalidation_data\u001b[49m\u001b[38;5;241;43m=\u001b[39;49m\u001b[43mva_gen\u001b[49m\u001b[43m,\u001b[49m\u001b[43m \u001b[49m\n\u001b[0;32m      7\u001b[0m \u001b[43m              \u001b[49m\u001b[43mbatch_size\u001b[49m\u001b[38;5;241;43m=\u001b[39;49m\u001b[43mBatch_size\u001b[49m\u001b[43m,\u001b[49m\u001b[43m \u001b[49m\n\u001b[0;32m      8\u001b[0m \u001b[43m              \u001b[49m\u001b[43mepochs\u001b[49m\u001b[38;5;241;43m=\u001b[39;49m\u001b[38;5;241;43m1\u001b[39;49m\u001b[43m,\u001b[49m\u001b[43m \u001b[49m\n\u001b[0;32m      9\u001b[0m \u001b[43m              \u001b[49m\u001b[43msteps_per_epoch\u001b[49m\u001b[38;5;241;43m=\u001b[39;49m\u001b[43msteps_per_epoch\u001b[49m\u001b[43m,\u001b[49m\u001b[43m \u001b[49m\n\u001b[0;32m     10\u001b[0m \u001b[43m              \u001b[49m\u001b[43mvalidation_steps\u001b[49m\u001b[38;5;241;43m=\u001b[39;49m\u001b[43msteps_per_val_epoch\u001b[49m\u001b[43m)\u001b[49m\n\u001b[0;32m     11\u001b[0m     model\u001b[38;5;241m.\u001b[39msave(model_dir \u001b[38;5;241m+\u001b[39m model_name \u001b[38;5;241m+\u001b[39m \u001b[38;5;124m\"\u001b[39m\u001b[38;5;124m_\u001b[39m\u001b[38;5;124m\"\u001b[39m \u001b[38;5;241m+\u001b[39m \u001b[38;5;28mstr\u001b[39m(e) \u001b[38;5;241m+\u001b[39m \u001b[38;5;124m\"\u001b[39m\u001b[38;5;124m.h5\u001b[39m\u001b[38;5;124m\"\u001b[39m)\n\u001b[0;32m     12\u001b[0m     dg_tr \u001b[38;5;241m=\u001b[39m data_gen(training\u001b[38;5;241m=\u001b[39m\u001b[38;5;28;01mTrue\u001b[39;00m, batch_size\u001b[38;5;241m=\u001b[39m\u001b[38;5;241m1\u001b[39m)\n",
      "File \u001b[1;32m~\\anaconda3\\envs\\DDC\\lib\\site-packages\\keras\\utils\\traceback_utils.py:65\u001b[0m, in \u001b[0;36mfilter_traceback.<locals>.error_handler\u001b[1;34m(*args, **kwargs)\u001b[0m\n\u001b[0;32m     63\u001b[0m filtered_tb \u001b[38;5;241m=\u001b[39m \u001b[38;5;28;01mNone\u001b[39;00m\n\u001b[0;32m     64\u001b[0m \u001b[38;5;28;01mtry\u001b[39;00m:\n\u001b[1;32m---> 65\u001b[0m     \u001b[38;5;28;01mreturn\u001b[39;00m fn(\u001b[38;5;241m*\u001b[39margs, \u001b[38;5;241m*\u001b[39m\u001b[38;5;241m*\u001b[39mkwargs)\n\u001b[0;32m     66\u001b[0m \u001b[38;5;28;01mexcept\u001b[39;00m \u001b[38;5;167;01mException\u001b[39;00m \u001b[38;5;28;01mas\u001b[39;00m e:\n\u001b[0;32m     67\u001b[0m     filtered_tb \u001b[38;5;241m=\u001b[39m _process_traceback_frames(e\u001b[38;5;241m.\u001b[39m__traceback__)\n",
      "File \u001b[1;32m~\\anaconda3\\envs\\DDC\\lib\\site-packages\\keras\\engine\\training.py:1570\u001b[0m, in \u001b[0;36mModel.fit\u001b[1;34m(self, x, y, batch_size, epochs, verbose, callbacks, validation_split, validation_data, shuffle, class_weight, sample_weight, initial_epoch, steps_per_epoch, validation_steps, validation_batch_size, validation_freq, max_queue_size, workers, use_multiprocessing)\u001b[0m\n\u001b[0;32m   1568\u001b[0m logs \u001b[38;5;241m=\u001b[39m tmp_logs\n\u001b[0;32m   1569\u001b[0m end_step \u001b[38;5;241m=\u001b[39m step \u001b[38;5;241m+\u001b[39m data_handler\u001b[38;5;241m.\u001b[39mstep_increment\n\u001b[1;32m-> 1570\u001b[0m \u001b[43mcallbacks\u001b[49m\u001b[38;5;241;43m.\u001b[39;49m\u001b[43mon_train_batch_end\u001b[49m\u001b[43m(\u001b[49m\u001b[43mend_step\u001b[49m\u001b[43m,\u001b[49m\u001b[43m \u001b[49m\u001b[43mlogs\u001b[49m\u001b[43m)\u001b[49m\n\u001b[0;32m   1571\u001b[0m \u001b[38;5;28;01mif\u001b[39;00m \u001b[38;5;28mself\u001b[39m\u001b[38;5;241m.\u001b[39mstop_training:\n\u001b[0;32m   1572\u001b[0m     \u001b[38;5;28;01mbreak\u001b[39;00m\n",
      "File \u001b[1;32m~\\anaconda3\\envs\\DDC\\lib\\site-packages\\keras\\callbacks.py:470\u001b[0m, in \u001b[0;36mCallbackList.on_train_batch_end\u001b[1;34m(self, batch, logs)\u001b[0m\n\u001b[0;32m    463\u001b[0m \u001b[38;5;124;03m\"\"\"Calls the `on_train_batch_end` methods of its callbacks.\u001b[39;00m\n\u001b[0;32m    464\u001b[0m \n\u001b[0;32m    465\u001b[0m \u001b[38;5;124;03mArgs:\u001b[39;00m\n\u001b[0;32m    466\u001b[0m \u001b[38;5;124;03m    batch: Integer, index of batch within the current epoch.\u001b[39;00m\n\u001b[0;32m    467\u001b[0m \u001b[38;5;124;03m    logs: Dict. Aggregated metric results up until this batch.\u001b[39;00m\n\u001b[0;32m    468\u001b[0m \u001b[38;5;124;03m\"\"\"\u001b[39;00m\n\u001b[0;32m    469\u001b[0m \u001b[38;5;28;01mif\u001b[39;00m \u001b[38;5;28mself\u001b[39m\u001b[38;5;241m.\u001b[39m_should_call_train_batch_hooks:\n\u001b[1;32m--> 470\u001b[0m     \u001b[38;5;28;43mself\u001b[39;49m\u001b[38;5;241;43m.\u001b[39;49m\u001b[43m_call_batch_hook\u001b[49m\u001b[43m(\u001b[49m\u001b[43mModeKeys\u001b[49m\u001b[38;5;241;43m.\u001b[39;49m\u001b[43mTRAIN\u001b[49m\u001b[43m,\u001b[49m\u001b[43m \u001b[49m\u001b[38;5;124;43m\"\u001b[39;49m\u001b[38;5;124;43mend\u001b[39;49m\u001b[38;5;124;43m\"\u001b[39;49m\u001b[43m,\u001b[49m\u001b[43m \u001b[49m\u001b[43mbatch\u001b[49m\u001b[43m,\u001b[49m\u001b[43m \u001b[49m\u001b[43mlogs\u001b[49m\u001b[38;5;241;43m=\u001b[39;49m\u001b[43mlogs\u001b[49m\u001b[43m)\u001b[49m\n",
      "File \u001b[1;32m~\\anaconda3\\envs\\DDC\\lib\\site-packages\\keras\\callbacks.py:317\u001b[0m, in \u001b[0;36mCallbackList._call_batch_hook\u001b[1;34m(self, mode, hook, batch, logs)\u001b[0m\n\u001b[0;32m    315\u001b[0m     \u001b[38;5;28mself\u001b[39m\u001b[38;5;241m.\u001b[39m_call_batch_begin_hook(mode, batch, logs)\n\u001b[0;32m    316\u001b[0m \u001b[38;5;28;01melif\u001b[39;00m hook \u001b[38;5;241m==\u001b[39m \u001b[38;5;124m\"\u001b[39m\u001b[38;5;124mend\u001b[39m\u001b[38;5;124m\"\u001b[39m:\n\u001b[1;32m--> 317\u001b[0m     \u001b[38;5;28;43mself\u001b[39;49m\u001b[38;5;241;43m.\u001b[39;49m\u001b[43m_call_batch_end_hook\u001b[49m\u001b[43m(\u001b[49m\u001b[43mmode\u001b[49m\u001b[43m,\u001b[49m\u001b[43m \u001b[49m\u001b[43mbatch\u001b[49m\u001b[43m,\u001b[49m\u001b[43m \u001b[49m\u001b[43mlogs\u001b[49m\u001b[43m)\u001b[49m\n\u001b[0;32m    318\u001b[0m \u001b[38;5;28;01melse\u001b[39;00m:\n\u001b[0;32m    319\u001b[0m     \u001b[38;5;28;01mraise\u001b[39;00m \u001b[38;5;167;01mValueError\u001b[39;00m(\n\u001b[0;32m    320\u001b[0m         \u001b[38;5;124mf\u001b[39m\u001b[38;5;124m\"\u001b[39m\u001b[38;5;124mUnrecognized hook: \u001b[39m\u001b[38;5;132;01m{\u001b[39;00mhook\u001b[38;5;132;01m}\u001b[39;00m\u001b[38;5;124m. \u001b[39m\u001b[38;5;124m\"\u001b[39m\n\u001b[0;32m    321\u001b[0m         \u001b[38;5;124m'\u001b[39m\u001b[38;5;124mExpected values are [\u001b[39m\u001b[38;5;124m\"\u001b[39m\u001b[38;5;124mbegin\u001b[39m\u001b[38;5;124m\"\u001b[39m\u001b[38;5;124m, \u001b[39m\u001b[38;5;124m\"\u001b[39m\u001b[38;5;124mend\u001b[39m\u001b[38;5;124m\"\u001b[39m\u001b[38;5;124m]\u001b[39m\u001b[38;5;124m'\u001b[39m\n\u001b[0;32m    322\u001b[0m     )\n",
      "File \u001b[1;32m~\\anaconda3\\envs\\DDC\\lib\\site-packages\\keras\\callbacks.py:340\u001b[0m, in \u001b[0;36mCallbackList._call_batch_end_hook\u001b[1;34m(self, mode, batch, logs)\u001b[0m\n\u001b[0;32m    337\u001b[0m     batch_time \u001b[38;5;241m=\u001b[39m time\u001b[38;5;241m.\u001b[39mtime() \u001b[38;5;241m-\u001b[39m \u001b[38;5;28mself\u001b[39m\u001b[38;5;241m.\u001b[39m_batch_start_time\n\u001b[0;32m    338\u001b[0m     \u001b[38;5;28mself\u001b[39m\u001b[38;5;241m.\u001b[39m_batch_times\u001b[38;5;241m.\u001b[39mappend(batch_time)\n\u001b[1;32m--> 340\u001b[0m \u001b[38;5;28;43mself\u001b[39;49m\u001b[38;5;241;43m.\u001b[39;49m\u001b[43m_call_batch_hook_helper\u001b[49m\u001b[43m(\u001b[49m\u001b[43mhook_name\u001b[49m\u001b[43m,\u001b[49m\u001b[43m \u001b[49m\u001b[43mbatch\u001b[49m\u001b[43m,\u001b[49m\u001b[43m \u001b[49m\u001b[43mlogs\u001b[49m\u001b[43m)\u001b[49m\n\u001b[0;32m    342\u001b[0m \u001b[38;5;28;01mif\u001b[39;00m \u001b[38;5;28mlen\u001b[39m(\u001b[38;5;28mself\u001b[39m\u001b[38;5;241m.\u001b[39m_batch_times) \u001b[38;5;241m>\u001b[39m\u001b[38;5;241m=\u001b[39m \u001b[38;5;28mself\u001b[39m\u001b[38;5;241m.\u001b[39m_num_batches_for_timing_check:\n\u001b[0;32m    343\u001b[0m     end_hook_name \u001b[38;5;241m=\u001b[39m hook_name\n",
      "File \u001b[1;32m~\\anaconda3\\envs\\DDC\\lib\\site-packages\\keras\\callbacks.py:388\u001b[0m, in \u001b[0;36mCallbackList._call_batch_hook_helper\u001b[1;34m(self, hook_name, batch, logs)\u001b[0m\n\u001b[0;32m    386\u001b[0m \u001b[38;5;28;01mfor\u001b[39;00m callback \u001b[38;5;129;01min\u001b[39;00m \u001b[38;5;28mself\u001b[39m\u001b[38;5;241m.\u001b[39mcallbacks:\n\u001b[0;32m    387\u001b[0m     hook \u001b[38;5;241m=\u001b[39m \u001b[38;5;28mgetattr\u001b[39m(callback, hook_name)\n\u001b[1;32m--> 388\u001b[0m     \u001b[43mhook\u001b[49m\u001b[43m(\u001b[49m\u001b[43mbatch\u001b[49m\u001b[43m,\u001b[49m\u001b[43m \u001b[49m\u001b[43mlogs\u001b[49m\u001b[43m)\u001b[49m\n\u001b[0;32m    390\u001b[0m \u001b[38;5;28;01mif\u001b[39;00m \u001b[38;5;28mself\u001b[39m\u001b[38;5;241m.\u001b[39m_check_timing:\n\u001b[0;32m    391\u001b[0m     \u001b[38;5;28;01mif\u001b[39;00m hook_name \u001b[38;5;129;01mnot\u001b[39;00m \u001b[38;5;129;01min\u001b[39;00m \u001b[38;5;28mself\u001b[39m\u001b[38;5;241m.\u001b[39m_hook_times:\n",
      "File \u001b[1;32m~\\anaconda3\\envs\\DDC\\lib\\site-packages\\keras\\callbacks.py:1081\u001b[0m, in \u001b[0;36mProgbarLogger.on_train_batch_end\u001b[1;34m(self, batch, logs)\u001b[0m\n\u001b[0;32m   1080\u001b[0m \u001b[38;5;28;01mdef\u001b[39;00m \u001b[38;5;21mon_train_batch_end\u001b[39m(\u001b[38;5;28mself\u001b[39m, batch, logs\u001b[38;5;241m=\u001b[39m\u001b[38;5;28;01mNone\u001b[39;00m):\n\u001b[1;32m-> 1081\u001b[0m     \u001b[38;5;28;43mself\u001b[39;49m\u001b[38;5;241;43m.\u001b[39;49m\u001b[43m_batch_update_progbar\u001b[49m\u001b[43m(\u001b[49m\u001b[43mbatch\u001b[49m\u001b[43m,\u001b[49m\u001b[43m \u001b[49m\u001b[43mlogs\u001b[49m\u001b[43m)\u001b[49m\n",
      "File \u001b[1;32m~\\anaconda3\\envs\\DDC\\lib\\site-packages\\keras\\callbacks.py:1157\u001b[0m, in \u001b[0;36mProgbarLogger._batch_update_progbar\u001b[1;34m(self, batch, logs)\u001b[0m\n\u001b[0;32m   1153\u001b[0m     \u001b[38;5;28mself\u001b[39m\u001b[38;5;241m.\u001b[39mseen \u001b[38;5;241m+\u001b[39m\u001b[38;5;241m=\u001b[39m add_seen\n\u001b[0;32m   1155\u001b[0m \u001b[38;5;28;01mif\u001b[39;00m \u001b[38;5;28mself\u001b[39m\u001b[38;5;241m.\u001b[39mverbose \u001b[38;5;241m==\u001b[39m \u001b[38;5;241m1\u001b[39m:\n\u001b[0;32m   1156\u001b[0m     \u001b[38;5;66;03m# Only block async when verbose = 1.\u001b[39;00m\n\u001b[1;32m-> 1157\u001b[0m     logs \u001b[38;5;241m=\u001b[39m \u001b[43mtf_utils\u001b[49m\u001b[38;5;241;43m.\u001b[39;49m\u001b[43msync_to_numpy_or_python_type\u001b[49m\u001b[43m(\u001b[49m\u001b[43mlogs\u001b[49m\u001b[43m)\u001b[49m\n\u001b[0;32m   1158\u001b[0m     \u001b[38;5;28mself\u001b[39m\u001b[38;5;241m.\u001b[39mprogbar\u001b[38;5;241m.\u001b[39mupdate(\u001b[38;5;28mself\u001b[39m\u001b[38;5;241m.\u001b[39mseen, \u001b[38;5;28mlist\u001b[39m(logs\u001b[38;5;241m.\u001b[39mitems()), finalize\u001b[38;5;241m=\u001b[39m\u001b[38;5;28;01mFalse\u001b[39;00m)\n",
      "File \u001b[1;32m~\\anaconda3\\envs\\DDC\\lib\\site-packages\\keras\\utils\\tf_utils.py:635\u001b[0m, in \u001b[0;36msync_to_numpy_or_python_type\u001b[1;34m(tensors)\u001b[0m\n\u001b[0;32m    632\u001b[0m         \u001b[38;5;28;01mreturn\u001b[39;00m t\n\u001b[0;32m    633\u001b[0m     \u001b[38;5;28;01mreturn\u001b[39;00m t\u001b[38;5;241m.\u001b[39mitem() \u001b[38;5;28;01mif\u001b[39;00m np\u001b[38;5;241m.\u001b[39mndim(t) \u001b[38;5;241m==\u001b[39m \u001b[38;5;241m0\u001b[39m \u001b[38;5;28;01melse\u001b[39;00m t\n\u001b[1;32m--> 635\u001b[0m \u001b[38;5;28;01mreturn\u001b[39;00m \u001b[43mtf\u001b[49m\u001b[38;5;241;43m.\u001b[39;49m\u001b[43mnest\u001b[49m\u001b[38;5;241;43m.\u001b[39;49m\u001b[43mmap_structure\u001b[49m\u001b[43m(\u001b[49m\u001b[43m_to_single_numpy_or_python_type\u001b[49m\u001b[43m,\u001b[49m\u001b[43m \u001b[49m\u001b[43mtensors\u001b[49m\u001b[43m)\u001b[49m\n",
      "File \u001b[1;32m~\\anaconda3\\envs\\DDC\\lib\\site-packages\\tensorflow\\python\\util\\nest.py:917\u001b[0m, in \u001b[0;36mmap_structure\u001b[1;34m(func, *structure, **kwargs)\u001b[0m\n\u001b[0;32m    913\u001b[0m flat_structure \u001b[38;5;241m=\u001b[39m (flatten(s, expand_composites) \u001b[38;5;28;01mfor\u001b[39;00m s \u001b[38;5;129;01min\u001b[39;00m structure)\n\u001b[0;32m    914\u001b[0m entries \u001b[38;5;241m=\u001b[39m \u001b[38;5;28mzip\u001b[39m(\u001b[38;5;241m*\u001b[39mflat_structure)\n\u001b[0;32m    916\u001b[0m \u001b[38;5;28;01mreturn\u001b[39;00m pack_sequence_as(\n\u001b[1;32m--> 917\u001b[0m     structure[\u001b[38;5;241m0\u001b[39m], [func(\u001b[38;5;241m*\u001b[39mx) \u001b[38;5;28;01mfor\u001b[39;00m x \u001b[38;5;129;01min\u001b[39;00m entries],\n\u001b[0;32m    918\u001b[0m     expand_composites\u001b[38;5;241m=\u001b[39mexpand_composites)\n",
      "File \u001b[1;32m~\\anaconda3\\envs\\DDC\\lib\\site-packages\\tensorflow\\python\\util\\nest.py:917\u001b[0m, in \u001b[0;36m<listcomp>\u001b[1;34m(.0)\u001b[0m\n\u001b[0;32m    913\u001b[0m flat_structure \u001b[38;5;241m=\u001b[39m (flatten(s, expand_composites) \u001b[38;5;28;01mfor\u001b[39;00m s \u001b[38;5;129;01min\u001b[39;00m structure)\n\u001b[0;32m    914\u001b[0m entries \u001b[38;5;241m=\u001b[39m \u001b[38;5;28mzip\u001b[39m(\u001b[38;5;241m*\u001b[39mflat_structure)\n\u001b[0;32m    916\u001b[0m \u001b[38;5;28;01mreturn\u001b[39;00m pack_sequence_as(\n\u001b[1;32m--> 917\u001b[0m     structure[\u001b[38;5;241m0\u001b[39m], [\u001b[43mfunc\u001b[49m\u001b[43m(\u001b[49m\u001b[38;5;241;43m*\u001b[39;49m\u001b[43mx\u001b[49m\u001b[43m)\u001b[49m \u001b[38;5;28;01mfor\u001b[39;00m x \u001b[38;5;129;01min\u001b[39;00m entries],\n\u001b[0;32m    918\u001b[0m     expand_composites\u001b[38;5;241m=\u001b[39mexpand_composites)\n",
      "File \u001b[1;32m~\\anaconda3\\envs\\DDC\\lib\\site-packages\\keras\\utils\\tf_utils.py:628\u001b[0m, in \u001b[0;36msync_to_numpy_or_python_type.<locals>._to_single_numpy_or_python_type\u001b[1;34m(t)\u001b[0m\n\u001b[0;32m    625\u001b[0m \u001b[38;5;28;01mdef\u001b[39;00m \u001b[38;5;21m_to_single_numpy_or_python_type\u001b[39m(t):\n\u001b[0;32m    626\u001b[0m     \u001b[38;5;66;03m# Don't turn ragged or sparse tensors to NumPy.\u001b[39;00m\n\u001b[0;32m    627\u001b[0m     \u001b[38;5;28;01mif\u001b[39;00m \u001b[38;5;28misinstance\u001b[39m(t, tf\u001b[38;5;241m.\u001b[39mTensor):\n\u001b[1;32m--> 628\u001b[0m         t \u001b[38;5;241m=\u001b[39m \u001b[43mt\u001b[49m\u001b[38;5;241;43m.\u001b[39;49m\u001b[43mnumpy\u001b[49m\u001b[43m(\u001b[49m\u001b[43m)\u001b[49m\n\u001b[0;32m    629\u001b[0m     \u001b[38;5;66;03m# Strings, ragged and sparse tensors don't have .item(). Return them\u001b[39;00m\n\u001b[0;32m    630\u001b[0m     \u001b[38;5;66;03m# as-is.\u001b[39;00m\n\u001b[0;32m    631\u001b[0m     \u001b[38;5;28;01mif\u001b[39;00m \u001b[38;5;129;01mnot\u001b[39;00m \u001b[38;5;28misinstance\u001b[39m(t, (np\u001b[38;5;241m.\u001b[39mndarray, np\u001b[38;5;241m.\u001b[39mgeneric)):\n",
      "File \u001b[1;32m~\\anaconda3\\envs\\DDC\\lib\\site-packages\\tensorflow\\python\\framework\\ops.py:1157\u001b[0m, in \u001b[0;36m_EagerTensorBase.numpy\u001b[1;34m(self)\u001b[0m\n\u001b[0;32m   1134\u001b[0m \u001b[38;5;124;03m\"\"\"Copy of the contents of this Tensor into a NumPy array or scalar.\u001b[39;00m\n\u001b[0;32m   1135\u001b[0m \n\u001b[0;32m   1136\u001b[0m \u001b[38;5;124;03mUnlike NumPy arrays, Tensors are immutable, so this method has to copy\u001b[39;00m\n\u001b[1;32m   (...)\u001b[0m\n\u001b[0;32m   1154\u001b[0m \u001b[38;5;124;03m    NumPy dtype.\u001b[39;00m\n\u001b[0;32m   1155\u001b[0m \u001b[38;5;124;03m\"\"\"\u001b[39;00m\n\u001b[0;32m   1156\u001b[0m \u001b[38;5;66;03m# TODO(slebedev): Consider avoiding a copy for non-CPU or remote tensors.\u001b[39;00m\n\u001b[1;32m-> 1157\u001b[0m maybe_arr \u001b[38;5;241m=\u001b[39m \u001b[38;5;28;43mself\u001b[39;49m\u001b[38;5;241;43m.\u001b[39;49m\u001b[43m_numpy\u001b[49m\u001b[43m(\u001b[49m\u001b[43m)\u001b[49m  \u001b[38;5;66;03m# pylint: disable=protected-access\u001b[39;00m\n\u001b[0;32m   1158\u001b[0m \u001b[38;5;28;01mreturn\u001b[39;00m maybe_arr\u001b[38;5;241m.\u001b[39mcopy() \u001b[38;5;28;01mif\u001b[39;00m \u001b[38;5;28misinstance\u001b[39m(maybe_arr, np\u001b[38;5;241m.\u001b[39mndarray) \u001b[38;5;28;01melse\u001b[39;00m maybe_arr\n",
      "File \u001b[1;32m~\\anaconda3\\envs\\DDC\\lib\\site-packages\\tensorflow\\python\\framework\\ops.py:1123\u001b[0m, in \u001b[0;36m_EagerTensorBase._numpy\u001b[1;34m(self)\u001b[0m\n\u001b[0;32m   1121\u001b[0m \u001b[38;5;28;01mdef\u001b[39;00m \u001b[38;5;21m_numpy\u001b[39m(\u001b[38;5;28mself\u001b[39m):\n\u001b[0;32m   1122\u001b[0m   \u001b[38;5;28;01mtry\u001b[39;00m:\n\u001b[1;32m-> 1123\u001b[0m     \u001b[38;5;28;01mreturn\u001b[39;00m \u001b[38;5;28;43mself\u001b[39;49m\u001b[38;5;241;43m.\u001b[39;49m\u001b[43m_numpy_internal\u001b[49m\u001b[43m(\u001b[49m\u001b[43m)\u001b[49m\n\u001b[0;32m   1124\u001b[0m   \u001b[38;5;28;01mexcept\u001b[39;00m core\u001b[38;5;241m.\u001b[39m_NotOkStatusException \u001b[38;5;28;01mas\u001b[39;00m e:  \u001b[38;5;66;03m# pylint: disable=protected-access\u001b[39;00m\n\u001b[0;32m   1125\u001b[0m     \u001b[38;5;28;01mraise\u001b[39;00m core\u001b[38;5;241m.\u001b[39m_status_to_exception(e) \u001b[38;5;28;01mfrom\u001b[39;00m \u001b[38;5;28mNone\u001b[39m\n",
      "\u001b[1;31mKeyboardInterrupt\u001b[0m: "
     ]
    }
   ],
   "source": [
    "tr_gen = data_gen(Batch_size)\n",
    "va_gen = val_data_gen(Batch_size*2)\n",
    "for e in range(last_epoch + 1, Epochs):\n",
    "    print(\"Epoch\", e + 1, \"/\", Epochs, \":\")\n",
    "    model.fit(x=tr_gen, \n",
    "              validation_data=va_gen, \n",
    "              batch_size=Batch_size, \n",
    "              epochs=1, \n",
    "              steps_per_epoch=steps_per_epoch, \n",
    "              validation_steps=steps_per_val_epoch)\n",
    "    model.save(model_dir + model_name + \"_\" + str(e) + \".h5\")\n",
    "    dg_tr =  data_gen(1)\n",
    "    dg_te =  val_data_gen(1)\n",
    "    # plt.figure(figsize=(8, 3))\n",
    "    fig, axs = plt.subplots(3, 8, figsize=(30, 12))\n",
    "    for i in range(4):\n",
    "        a, b = dg_tr.send(None)\n",
    "        axs[0, i].set_title(\"Train Input \" + str(i + 1))\n",
    "        axs[0, i].imshow(a[0], cmap='gray')\n",
    "        axs[0, i].axis('off')\n",
    "        axs[1, i].set_title(\"Train GT \" + str(i + 1))\n",
    "        axs[1, i].imshow(b[0], cmap='gray')\n",
    "        axs[1, i].axis('off')\n",
    "        axs[2, i].set_title(\"Train Output \" + str(i + 1))\n",
    "        axs[2, i].imshow(model.predict(a, verbose=0)[0], cmap='gray')\n",
    "        axs[2, i].axis('off')\n",
    "        c, d = dg_te.send(None)\n",
    "        axs[0, 4 + i].set_title(\"Test Input \" + str(i + 1))\n",
    "        axs[0, 4 + i].imshow(c[0], cmap='gray')\n",
    "        axs[0, 4 + i].axis('off')\n",
    "        axs[1, 4 + i].set_title(\"Test GT \" + str(i + 1))\n",
    "        axs[1, 4 + i].imshow(d[0], cmap='gray')\n",
    "        axs[1, 4 + i].axis('off')\n",
    "        axs[2, 4 + i].set_title(\"Test Output \" + str(i + 1))\n",
    "        axs[2, 4 + i].imshow(model.predict(c, verbose=0)[0], cmap='gray')\n",
    "        axs[2, 4 + i].axis('off')\n",
    "    fig.savefig(model_dir + model_name + \"_\" + str(e) + \".png\", bbox_inches='tight')\n",
    "    plt.close()"
   ]
  },
  {
   "cell_type": "code",
   "execution_count": 20,
   "id": "35f20689-a470-40f4-a1cf-bb48f86bc043",
   "metadata": {},
   "outputs": [],
   "source": [
    "x, y = next(iter(tr_gen))"
   ]
  },
  {
   "cell_type": "code",
   "execution_count": 32,
   "id": "c1b36905-0910-4937-90a4-a04e79083d08",
   "metadata": {},
   "outputs": [
    {
     "data": {
      "text/plain": [
       "(180, 180)"
      ]
     },
     "execution_count": 32,
     "metadata": {},
     "output_type": "execute_result"
    }
   ],
   "source": [
    "x[0].squeeze().shape"
   ]
  },
  {
   "cell_type": "code",
   "execution_count": 35,
   "id": "a67624ec-d55a-4d41-961e-51ecec27828e",
   "metadata": {},
   "outputs": [
    {
     "name": "stdout",
     "output_type": "stream",
     "text": [
      "tf.Tensor(10657.464691358025, shape=(), dtype=float64)\n"
     ]
    }
   ],
   "source": [
    "print(tf.losses.mse(x.flatten(), y.flatten()))"
   ]
  },
  {
   "cell_type": "code",
   "execution_count": null,
   "id": "dfb86bad-052d-4c2c-a5a3-e72d4db9f272",
   "metadata": {},
   "outputs": [],
   "source": []
  }
 ],
 "metadata": {
  "kernelspec": {
   "display_name": "Python 3 (ipykernel)",
   "language": "python",
   "name": "python3"
  },
  "language_info": {
   "codemirror_mode": {
    "name": "ipython",
    "version": 3
   },
   "file_extension": ".py",
   "mimetype": "text/x-python",
   "name": "python",
   "nbconvert_exporter": "python",
   "pygments_lexer": "ipython3",
   "version": "3.9.16"
  }
 },
 "nbformat": 4,
 "nbformat_minor": 5
}
